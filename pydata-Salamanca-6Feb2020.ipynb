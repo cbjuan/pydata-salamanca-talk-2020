{
 "cells": [
  {
   "cell_type": "markdown",
   "metadata": {
    "slideshow": {
     "slide_type": "slide"
    }
   },
   "source": [
    "![alt text](https://empresas.blogthinkbig.com/wp-content/uploads/2019/03/Figura1LogoJupyter.png \"Logo Jupyter\")\n",
    "# Using Jupyter: From simple personal notebooks to large deployments with thousands of users\n",
    "\n",
    "Juan Cruz-Benito \n",
    "\n",
    "🐦 @_juancb"
   ]
  },
  {
   "cell_type": "markdown",
   "metadata": {
    "slideshow": {
     "slide_type": "slide"
    }
   },
   "source": [
    "## Who am I?\n",
    "\n",
    "👋 Juan Cruz-Benito \n",
    "\n",
    "- 👨‍🎓 PhD in Computer Engineering by the University of Salamanca\n",
    "- 🏆 National award for Spanish young researchers 2019\n",
    "- 👨‍💻 Senior Software Engineer @ IBM Researh Quantum & AI\n",
    "- ☁️📓 Lead at IBM Quantum Experience Cloud Notebooks\n",
    "- 🤓 Nerd"
   ]
  },
  {
   "cell_type": "markdown",
   "metadata": {
    "slideshow": {
     "slide_type": "slide"
    }
   },
   "source": [
    "## What is the Project Jupyter?\n",
    "\n",
    "Project Jupyter exists to develop open-source software, open-standards, and services for interactive computing across dozens of programming languages"
   ]
  },
  {
   "cell_type": "markdown",
   "metadata": {
    "slideshow": {
     "slide_type": "slide"
    }
   },
   "source": [
    "## What is a Jupyter Notebook\n",
    "\n",
    "The Jupyter Notebook is an open-source web application that allows you to create and share documents that contain live code, equations, visualizations and narrative text. \n",
    "\n",
    "Uses include: data cleaning and transformation, numerical simulation, statistical modeling, data visualization, machine learning, and much more."
   ]
  },
  {
   "cell_type": "markdown",
   "metadata": {
    "slideshow": {
     "slide_type": "slide"
    }
   },
   "source": [
    "## What can I do, personally, with a Jupyter Notebook"
   ]
  },
  {
   "cell_type": "markdown",
   "metadata": {
    "slideshow": {
     "slide_type": "slide"
    }
   },
   "source": [
    "### Play with code & data"
   ]
  },
  {
   "cell_type": "code",
   "execution_count": null,
   "metadata": {
    "slideshow": {
     "slide_type": "subslide"
    }
   },
   "outputs": [],
   "source": [
    "# This is a cell of a Jupyter Notebook\n",
    "# here I can work on my things (DS, CS, or any other stuff related to code)\n",
    "import numpy as np\n",
    "import pandas as pd\n",
    "\n",
    "dates = pd.date_range('20130101', periods=6)\n",
    "\n",
    "display(dates)"
   ]
  },
  {
   "cell_type": "code",
   "execution_count": null,
   "metadata": {
    "slideshow": {
     "slide_type": "subslide"
    }
   },
   "outputs": [],
   "source": [
    "df = pd.DataFrame(np.random.randn(6, 4), index=dates, columns=list('ABCD'))\n",
    "\n",
    "display(df)"
   ]
  },
  {
   "cell_type": "code",
   "execution_count": null,
   "metadata": {
    "slideshow": {
     "slide_type": "subslide"
    }
   },
   "outputs": [],
   "source": [
    "df.describe()"
   ]
  },
  {
   "cell_type": "code",
   "execution_count": null,
   "metadata": {
    "slideshow": {
     "slide_type": "subslide"
    }
   },
   "outputs": [],
   "source": [
    "df.plot()"
   ]
  },
  {
   "cell_type": "markdown",
   "metadata": {
    "slideshow": {
     "slide_type": "slide"
    }
   },
   "source": [
    "### Conduct research and share my results"
   ]
  },
  {
   "cell_type": "markdown",
   "metadata": {
    "slideshow": {
     "slide_type": "subslide"
    }
   },
   "source": [
    "I can publish my noteboks in GitHub or other platforms to let people review my research and results\n",
    "\n",
    "Example: Code for the paper\n",
    "```\n",
    "Cruz-Benito, J., Vázquez-Ingelmo, A., Sánchez-Prieto, J. C., Therón, R., \n",
    "García-Peñalvo, F. J., & Martín-González, M. (2017). Enabling adaptability \n",
    "in web forms based on user characteristics detection through A/B testing \n",
    "and machine learning. IEEE Access, 6, 2251-2265.\n",
    "```\n",
    "https://github.com/cbjuan/paper-ieeeAccess-2017"
   ]
  },
  {
   "cell_type": "markdown",
   "metadata": {
    "slideshow": {
     "slide_type": "subslide"
    }
   },
   "source": [
    "Even after sharing my notebooks in GitHub, I can let people to execute my code online via Binder (a Jupyter subproject)\n",
    "\n",
    "![alt text](https://miro.medium.com/max/634/1*H28MLVCxQzhuXzKzbMyiZA.png \"Launch Binder\")\n",
    "\n",
    "\n",
    "\n",
    "\n",
    "Example: https://mybinder.org/v2/gh/cbjuan/paper-ieeeAccess-2017/master"
   ]
  },
  {
   "cell_type": "markdown",
   "metadata": {
    "slideshow": {
     "slide_type": "slide"
    }
   },
   "source": [
    "### Develop and document software"
   ]
  },
  {
   "cell_type": "markdown",
   "metadata": {
    "slideshow": {
     "slide_type": "subslide"
    }
   },
   "source": [
    "Using for example, **nbdev** http://nbdev.fast.ai/"
   ]
  },
  {
   "cell_type": "markdown",
   "metadata": {
    "slideshow": {
     "slide_type": "subslide"
    }
   },
   "source": [
    "Example: https://github.com/cbjuan/nbdev-test"
   ]
  },
  {
   "cell_type": "markdown",
   "metadata": {
    "slideshow": {
     "slide_type": "slide"
    }
   },
   "source": [
    "## Some tricks when using Jupyter Notebooks \n"
   ]
  },
  {
   "cell_type": "code",
   "execution_count": null,
   "metadata": {
    "slideshow": {
     "slide_type": "subslide"
    }
   },
   "outputs": [],
   "source": [
    "## Minimal auto-completion\n",
    "x = [1, 2, 3]"
   ]
  },
  {
   "cell_type": "code",
   "execution_count": null,
   "metadata": {
    "slideshow": {
     "slide_type": "fragment"
    }
   },
   "outputs": [],
   "source": [
    "# Type 'x.' and press TAB\n",
    "x"
   ]
  },
  {
   "cell_type": "code",
   "execution_count": null,
   "metadata": {
    "slideshow": {
     "slide_type": "subslide"
    }
   },
   "outputs": [],
   "source": [
    "## Get inline documentation \n",
    "x = [1, 2, 3]"
   ]
  },
  {
   "cell_type": "code",
   "execution_count": null,
   "metadata": {
    "slideshow": {
     "slide_type": "fragment"
    }
   },
   "outputs": [],
   "source": [
    "x.append?"
   ]
  },
  {
   "cell_type": "code",
   "execution_count": null,
   "metadata": {
    "slideshow": {
     "slide_type": "subslide"
    }
   },
   "outputs": [],
   "source": [
    "## Debug code\n",
    "## -------------\n",
    "# For executing line by line use n\n",
    "# for step into a function use s \n",
    "# and to exit from debugging prompt use c.\n",
    "from IPython.core.debugger import set_trace\n",
    "\n",
    "x = [1,2,3]\n",
    "set_trace()\n",
    "x.append(4)"
   ]
  },
  {
   "cell_type": "markdown",
   "metadata": {
    "slideshow": {
     "slide_type": "slide"
    }
   },
   "source": [
    "## What can't I do with regular Jupyter notebooks / servers? \n",
    "- Share a Jupyter server with many* other users\n",
    "- Create code ready for production* \n",
    "- You can do many other things, but some of them could be difficult to achieve"
   ]
  },
  {
   "cell_type": "markdown",
   "metadata": {
    "slideshow": {
     "slide_type": "slide"
    }
   },
   "source": [
    "## Some things people say against notebooks\n",
    "\n",
    "- Discourages software development good habits\n",
    "- Discourages modularity\n",
    "- Discourages testability\n",
    "- People can alter the order of executions\n",
    "\n",
    "- Many others. Google \"Jupyter Notebooks bad reviews\" https://www.google.com/search?q=jupyter+notebooks+bad+reviews"
   ]
  },
  {
   "cell_type": "markdown",
   "metadata": {
    "slideshow": {
     "slide_type": "slide"
    }
   },
   "source": [
    "## OK. I want to use Jupyter Notebooks with friends or colleagues\n",
    "\n",
    "What should I do? Options:\n",
    "- Jupyter Enterprise Gateway https://jupyter-enterprise-gateway.readthedocs.io/en/latest/\n",
    "- JupyterHub https://jupyterhub.readthedocs.io/en/stable/\n",
    "- BinderHub https://binderhub.readthedocs.io/en/latest/"
   ]
  },
  {
   "cell_type": "markdown",
   "metadata": {
    "slideshow": {
     "slide_type": "slide"
    }
   },
   "source": [
    "## What is JupyterHub\n",
    "\n",
    "JupyterHub is the best way to serve Jupyter notebook for multiple users. It can be used in a classes of students, a corporate data science group or scientific research group. It is a multi-user Hub that spawns, manages, and proxies multiple instances of the single-user Jupyter notebook server."
   ]
  },
  {
   "cell_type": "markdown",
   "metadata": {
    "slideshow": {
     "slide_type": "subslide"
    }
   },
   "source": [
    "### How much users can I manage with a JupyterHub?\n",
    "\n",
    "Depending on your hardware resources and how do you deploy it. Theoretically, nearly infinite users 🤯"
   ]
  },
  {
   "cell_type": "markdown",
   "metadata": {
    "slideshow": {
     "slide_type": "subslide"
    }
   },
   "source": [
    "### A real case\n",
    "\n",
    "![alt text](https://static.onthehub.com/production/attachments/9/2d85cc11-25c3-e711-80f9-000d3af41938/9c91b77d-0628-474d-bd3c-2785194546ac.png?t=636463589209030000 \"IBM Q\")"
   ]
  },
  {
   "cell_type": "markdown",
   "metadata": {
    "slideshow": {
     "slide_type": "subslide"
    }
   },
   "source": [
    "### IBM Quantum Experience Cloud Notebooks\n",
    "\n",
    "https://quantum-computing.ibm.com/\n",
    "\n",
    "- +100K users in our Quantum platform\n",
    "- Deployed on IBM Cloud using Kubernetes\n",
    "- Individual storage for each user\n",
    "- All the quantum computing libraries and typical data science/research stack installed\n",
    "- Integration with our other cloud tools"
   ]
  },
  {
   "cell_type": "markdown",
   "metadata": {
    "slideshow": {
     "slide_type": "slide"
    }
   },
   "source": [
    "## More Jupyter Projects\n",
    "\n",
    "- JupyterLab https://jupyterlab.readthedocs.io/en/stable/\n",
    "- Voilà https://voila-gallery.org/\n",
    "- Many others https://github.com/jupyter"
   ]
  },
  {
   "cell_type": "markdown",
   "metadata": {
    "slideshow": {
     "slide_type": "slide"
    }
   },
   "source": [
    "## Questions?\n",
    "\n",
    "![alt text](https://media.giphy.com/media/L7ONYIPYXyc8/giphy.gif \"IBM Q\")\n",
    "\n"
   ]
  },
  {
   "cell_type": "markdown",
   "metadata": {
    "slideshow": {
     "slide_type": "slide"
    }
   },
   "source": [
    "## References:\n",
    "- Project Jupyter https://jupyter.org/\n",
    "- Joel Grus \"I don't like notebooks\" https://docs.google.com/presentation/d/1n2RlMdmv1p25Xy5thJUhkKGvjtV-dkAIsUXP-AL4ffI/preview\n",
    "- Austin Z. Henley \"What's wrong with computational notebooks?\" https://web.eecs.utk.edu/~azh/blog/notebookpainpoints.html"
   ]
  }
 ],
 "metadata": {
  "celltoolbar": "Slideshow",
  "kernelspec": {
   "display_name": "Python 3",
   "language": "python",
   "name": "python3"
  },
  "language_info": {
   "codemirror_mode": {
    "name": "ipython",
    "version": 3
   },
   "file_extension": ".py",
   "mimetype": "text/x-python",
   "name": "python",
   "nbconvert_exporter": "python",
   "pygments_lexer": "ipython3",
   "version": "3.7.6"
  }
 },
 "nbformat": 4,
 "nbformat_minor": 4
}
